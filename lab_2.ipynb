{
 "cells": [
  {
   "cell_type": "markdown",
   "id": "19201681",
   "metadata": {},
   "source": [
    "#assignment operator\n",
    "a = 3\n",
    "print(a)"
   ]
  },
  {
   "cell_type": "code",
   "execution_count": null,
   "id": "6c7bf653",
   "metadata": {},
   "outputs": [],
   "source": []
  },
  {
   "cell_type": "code",
   "execution_count": 5,
   "id": "0c6199d3",
   "metadata": {},
   "outputs": [
    {
     "name": "stdout",
     "output_type": "stream",
     "text": [
      "3\n"
     ]
    }
   ],
   "source": [
    "#assignment operator \n",
    "a=3\n",
    "print (a)"
   ]
  },
  {
   "cell_type": "code",
   "execution_count": 6,
   "id": "4b39ad97",
   "metadata": {},
   "outputs": [
    {
     "name": "stdout",
     "output_type": "stream",
     "text": [
      "5\n"
     ]
    }
   ],
   "source": [
    "In[6]\n",
    "a+=2 \n",
    "print (a)\n"
   ]
  },
  {
   "cell_type": "code",
   "execution_count": 9,
   "id": "dfb0ba0c",
   "metadata": {},
   "outputs": [
    {
     "name": "stdout",
     "output_type": "stream",
     "text": [
      "5\n",
      "4\n"
     ]
    }
   ],
   "source": [
    "print (a)\n",
    "a-=1 \n",
    "print (a)"
   ]
  },
  {
   "cell_type": "code",
   "execution_count": 10,
   "id": "cd7bc428",
   "metadata": {},
   "outputs": [
    {
     "name": "stdout",
     "output_type": "stream",
     "text": [
      "8\n"
     ]
    }
   ],
   "source": [
    "a*=2\n",
    "print (a)"
   ]
  },
  {
   "cell_type": "code",
   "execution_count": 11,
   "id": "e5019318",
   "metadata": {},
   "outputs": [],
   "source": [
    "#identity operator \n",
    "list1 =[1,2,3]\n",
    "list2 =[1,2,3]\n"
   ]
  },
  {
   "cell_type": "code",
   "execution_count": 12,
   "id": "cdea8483",
   "metadata": {},
   "outputs": [
    {
     "data": {
      "text/plain": [
       "[1, 2, 3]"
      ]
     },
     "execution_count": 12,
     "metadata": {},
     "output_type": "execute_result"
    }
   ],
   "source": [
    "list1"
   ]
  },
  {
   "cell_type": "code",
   "execution_count": 13,
   "id": "f393e64a",
   "metadata": {},
   "outputs": [
    {
     "data": {
      "text/plain": [
       "[1, 2, 3]"
      ]
     },
     "execution_count": 13,
     "metadata": {},
     "output_type": "execute_result"
    }
   ],
   "source": [
    "list2"
   ]
  },
  {
   "cell_type": "code",
   "execution_count": 15,
   "id": "1451ee79",
   "metadata": {},
   "outputs": [
    {
     "name": "stdout",
     "output_type": "stream",
     "text": [
      "False\n"
     ]
    }
   ],
   "source": [
    "print (list1 is list2)"
   ]
  },
  {
   "cell_type": "code",
   "execution_count": 18,
   "id": "e19a2a64",
   "metadata": {},
   "outputs": [
    {
     "name": "stdout",
     "output_type": "stream",
     "text": [
      "['apple', 'graphs', 'orange']\n"
     ]
    }
   ],
   "source": [
    "#membership operator \n",
    "fruits =[\"apple\", 'graphs','orange']\n",
    "print (fruits)"
   ]
  },
  {
   "cell_type": "code",
   "execution_count": 19,
   "id": "3dc5082b",
   "metadata": {},
   "outputs": [
    {
     "name": "stdout",
     "output_type": "stream",
     "text": [
      "False\n"
     ]
    }
   ],
   "source": [
    "print ('orange' not in fruits)"
   ]
  },
  {
   "cell_type": "code",
   "execution_count": 22,
   "id": "8e32f3db",
   "metadata": {},
   "outputs": [
    {
     "name": "stdout",
     "output_type": "stream",
     "text": [
      "hafeez\n"
     ]
    }
   ],
   "source": [
    "#input and output(i/o)\n",
    "student_name =input (\"please enter your name:\")\n",
    "print(student_name)"
   ]
  },
  {
   "cell_type": "code",
   "execution_count": 24,
   "id": "2a9fe7ad",
   "metadata": {},
   "outputs": [
    {
     "name": "stdout",
     "output_type": "stream",
     "text": [
      "1000\n"
     ]
    }
   ],
   "source": [
    "student_fees =int(input(\"pleaseenter your fee:\"))\n",
    "print(student_fees-1000)"
   ]
  },
  {
   "cell_type": "code",
   "execution_count": 25,
   "id": "2f628cfe",
   "metadata": {},
   "outputs": [
    {
     "name": "stdout",
     "output_type": "stream",
     "text": [
      "welcome to kp-it board\n"
     ]
    }
   ],
   "source": [
    "#output\n",
    "a='welcome to kp-it board'\n",
    "print (a)"
   ]
  },
  {
   "cell_type": "code",
   "execution_count": 26,
   "id": "bc3fa980",
   "metadata": {},
   "outputs": [
    {
     "name": "stdout",
     "output_type": "stream",
     "text": [
      "welcome to kp-it board AI course\n"
     ]
    }
   ],
   "source": [
    "#output\n",
    "a='welcome to kp-it board'\n",
    "print (a,'AI course')"
   ]
  },
  {
   "cell_type": "code",
   "execution_count": 30,
   "id": "97863636",
   "metadata": {},
   "outputs": [
    {
     "name": "stdout",
     "output_type": "stream",
     "text": [
      "hello, ali !you are 22 years old.\n"
     ]
    }
   ],
   "source": [
    "name ='ali' \n",
    "age =22\n",
    "print (\"hello,\",name, \"!you are\",age, \"years old.\")"
   ]
  },
  {
   "cell_type": "code",
   "execution_count": 31,
   "id": "dfc09586",
   "metadata": {},
   "outputs": [
    {
     "name": "stdout",
     "output_type": "stream",
     "text": [
      "hello, ali ! you are 22 year old.\n"
     ]
    }
   ],
   "source": [
    "print (f\"hello, {name} ! you are {age} year old.\")"
   ]
  },
  {
   "cell_type": "code",
   "execution_count": null,
   "id": "69cf7494",
   "metadata": {},
   "outputs": [],
   "source": [
    "pri"
   ]
  }
 ],
 "metadata": {
  "kernelspec": {
   "display_name": "base",
   "language": "python",
   "name": "python3"
  },
  "language_info": {
   "codemirror_mode": {
    "name": "ipython",
    "version": 3
   },
   "file_extension": ".py",
   "mimetype": "text/x-python",
   "name": "python",
   "nbconvert_exporter": "python",
   "pygments_lexer": "ipython3",
   "version": "3.13.5"
  }
 },
 "nbformat": 4,
 "nbformat_minor": 5
}
